{
 "cells": [
  {
   "cell_type": "markdown",
   "metadata": {
    "deletable": true,
    "editable": true
   },
   "source": [
    "# Self-Driving Car Engineer Nanodegree\n",
    "\n",
    "## Deep Learning\n",
    "\n",
    "## Project: Build a Traffic Sign Recognition Classifier\n",
    "\n",
    "In this notebook, a template is provided for you to implement your functionality in stages, which is required to successfully complete this project. If additional code is required that cannot be included in the notebook, be sure that the Python code is successfully imported and included in your submission if necessary. \n",
    "\n",
    "> **Note**: Once you have completed all of the code implementations, you need to finalize your work by exporting the iPython Notebook as an HTML document. Before exporting the notebook to html, all of the code cells need to have been run so that reviewers can see the final implementation and output. You can then export the notebook by using the menu above and navigating to  \\n\",\n",
    "    \"**File -> Download as -> HTML (.html)**. Include the finished document along with this notebook as your submission. \n",
    "\n",
    "In addition to implementing code, there is a writeup to complete. The writeup should be completed in a separate file, which can be either a markdown file or a pdf document. There is a [write up template](https://github.com/udacity/CarND-Traffic-Sign-Classifier-Project/blob/master/writeup_template.md) that can be used to guide the writing process. Completing the code template and writeup template will cover all of the [rubric points](https://review.udacity.com/#!/rubrics/481/view) for this project.\n",
    "\n",
    "The [rubric](https://review.udacity.com/#!/rubrics/481/view) contains \"Stand Out Suggestions\" for enhancing the project beyond the minimum requirements. The stand out suggestions are optional. If you decide to pursue the \"stand out suggestions\", you can include the code in this Ipython notebook and also discuss the results in the writeup file.\n",
    "\n",
    "\n",
    ">**Note:** Code and Markdown cells can be executed using the **Shift + Enter** keyboard shortcut. In addition, Markdown cells can be edited by typically double-clicking the cell to enter edit mode."
   ]
  },
  {
   "cell_type": "markdown",
   "metadata": {
    "deletable": true,
    "editable": true
   },
   "source": [
    "---\n",
    "## Step 0: Load The Data"
   ]
  },
  {
   "cell_type": "code",
   "execution_count": 1,
   "metadata": {
    "collapsed": false,
    "deletable": true,
    "editable": true
   },
   "outputs": [],
   "source": [
    "# Load pickled data\n",
    "import pickle\n",
    "\n",
    "# TODO: Fill this in based on where you saved the training and testing data\n",
    "\n",
    "training_file = './train.p'\n",
    "validation_file='./valid.p'\n",
    "testing_file = './test.p'\n",
    "\n",
    "with open(training_file, mode='rb') as f:\n",
    "    train = pickle.load(f)\n",
    "with open(validation_file, mode='rb') as f:\n",
    "    valid = pickle.load(f)\n",
    "with open(testing_file, mode='rb') as f:\n",
    "    test = pickle.load(f)\n",
    "    \n",
    "X_train, y_train = train['features'], train['labels']\n",
    "X_valid, y_valid = valid['features'], valid['labels']\n",
    "X_test, y_test = test['features'], test['labels']"
   ]
  },
  {
   "cell_type": "markdown",
   "metadata": {
    "deletable": true,
    "editable": true
   },
   "source": [
    "---\n",
    "\n",
    "## Step 1: Dataset Summary & Exploration\n",
    "\n",
    "The pickled data is a dictionary with 4 key/value pairs:\n",
    "\n",
    "- `'features'` is a 4D array containing raw pixel data of the traffic sign images, (num examples, width, height, channels).\n",
    "- `'labels'` is a 1D array containing the label/class id of the traffic sign. The file `signnames.csv` contains id -> name mappings for each id.\n",
    "- `'sizes'` is a list containing tuples, (width, height) representing the original width and height the image.\n",
    "- `'coords'` is a list containing tuples, (x1, y1, x2, y2) representing coordinates of a bounding box around the sign in the image. **THESE COORDINATES ASSUME THE ORIGINAL IMAGE. THE PICKLED DATA CONTAINS RESIZED VERSIONS (32 by 32) OF THESE IMAGES**\n",
    "\n",
    "Complete the basic data summary below. Use python, numpy and/or pandas methods to calculate the data summary rather than hard coding the results. For example, the [pandas shape method](http://pandas.pydata.org/pandas-docs/stable/generated/pandas.DataFrame.shape.html) might be useful for calculating some of the summary results. "
   ]
  },
  {
   "cell_type": "markdown",
   "metadata": {
    "deletable": true,
    "editable": true
   },
   "source": [
    "### Provide a Basic Summary of the Data Set Using Python, Numpy and/or Pandas"
   ]
  },
  {
   "cell_type": "code",
   "execution_count": 2,
   "metadata": {
    "collapsed": false,
    "deletable": true,
    "editable": true
   },
   "outputs": [
    {
     "name": "stdout",
     "output_type": "stream",
     "text": [
      "Number of training examples = (34799, 32, 32, 3)\n",
      "Number of testing examples = 12630\n",
      "Image data shape = (32, 32)\n",
      "Number of classes = 42\n"
     ]
    }
   ],
   "source": [
    "### Replace each question mark with the appropriate value. \n",
    "### Use python, pandas or numpy methods rather than hard coding the results\n",
    "\n",
    "# TODO: Number of training examples\n",
    "n_train = X_train.shape[0]\n",
    "\n",
    "# TODO: Number of testing examples.\n",
    "n_test = X_test.shape[0]\n",
    "\n",
    "# TODO: What's the shape of an traffic sign image?\n",
    "image_shape = (X_test.shape[1],X_test.shape[2])\n",
    "\n",
    "# TODO: How many unique classes/labels there are in the dataset.\n",
    "n_classes = 42\n",
    "\n",
    "print(\"Number of training examples =\", X_train.shape)\n",
    "print(\"Number of testing examples =\", n_test)\n",
    "print(\"Image data shape =\", image_shape)\n",
    "print(\"Number of classes =\", n_classes)"
   ]
  },
  {
   "cell_type": "markdown",
   "metadata": {
    "deletable": true,
    "editable": true
   },
   "source": [
    "### Include an exploratory visualization of the dataset"
   ]
  },
  {
   "cell_type": "markdown",
   "metadata": {
    "deletable": true,
    "editable": true
   },
   "source": [
    "Visualize the German Traffic Signs Dataset using the pickled file(s). This is open ended, suggestions include: plotting traffic sign images, plotting the count of each sign, etc.\n",
    "\n",
    "The [Matplotlib](http://matplotlib.org/) [examples](http://matplotlib.org/examples/index.html) and [gallery](http://matplotlib.org/gallery.html) pages are a great resource for doing visualizations in Python.\n",
    "\n",
    "**NOTE:** It's recommended you start with something simple first. If you wish to do more, come back to it after you've completed the rest of the sections."
   ]
  },
  {
   "cell_type": "code",
   "execution_count": 3,
   "metadata": {
    "collapsed": false,
    "deletable": true,
    "editable": true
   },
   "outputs": [
    {
     "data": {
      "text/plain": [
       "<matplotlib.image.AxesImage at 0x7faf5baea6a0>"
      ]
     },
     "execution_count": 3,
     "metadata": {},
     "output_type": "execute_result"
    },
    {
     "data": {
      "image/png": "[encoded data removed]",
      "text/plain": [
       "<matplotlib.figure.Figure at 0x7faf8d30c860>"
      ]
     },
     "metadata": {},
     "output_type": "display_data"
    }
   ],
   "source": [
    "### Data exploration visualization code goes here.\n",
    "### Feel free to use as many code cells as needed.\n",
    "import matplotlib.pyplot as plt\n",
    "import matplotlib.image as mpimg\n",
    "\n",
    "# Visualizations will be shown in the notebook.\n",
    "%matplotlib inline\n",
    "\n",
    "plt.imshow(X_train[3220])\n",
    "# X_train[0].shape"
   ]
  },
  {
   "cell_type": "markdown",
   "metadata": {
    "deletable": true,
    "editable": true
   },
   "source": [
    "----\n",
    "\n",
    "## Step 2: Design and Test a Model Architecture\n",
    "\n",
    "Design and implement a deep learning model that learns to recognize traffic signs. Train and test your model on the [German Traffic Sign Dataset](http://benchmark.ini.rub.de/?section=gtsrb&subsection=dataset).\n",
    "\n",
    "The LeNet-5 implementation shown in the [classroom](https://classroom.udacity.com/nanodegrees/nd013/parts/fbf77062-5703-404e-b60c-95b78b2f3f9e/modules/6df7ae49-c61c-4bb2-a23e-6527e69209ec/lessons/601ae704-1035-4287-8b11-e2c2716217ad/concepts/d4aca031-508f-4e0b-b493-e7b706120f81) at the end of the CNN lesson is a solid starting point. You'll have to change the number of classes and possibly the preprocessing, but aside from that it's plug and play! \n",
    "\n",
    "With the LeNet-5 solution from the lecture, you should expect a validation set accuracy of about 0.89. To meet specifications, the validation set accuracy will need to be at least 0.93. It is possible to get an even higher accuracy, but 0.93 is the minimum for a successful project submission. \n",
    "\n",
    "There are various aspects to consider when thinking about this problem:\n",
    "\n",
    "- Neural network architecture (is the network over or underfitting?)\n",
    "- Play around preprocessing techniques (normalization, rgb to grayscale, etc)\n",
    "- Number of examples per label (some have more than others).\n",
    "- Generate fake data.\n",
    "\n",
    "Here is an example of a [published baseline model on this problem](http://yann.lecun.com/exdb/publis/pdf/sermanet-ijcnn-11.pdf). It's not required to be familiar with the approach used in the paper but, it's good practice to try to read papers like these."
   ]
  },
  {
   "cell_type": "markdown",
   "metadata": {
    "deletable": true,
    "editable": true
   },
   "source": [
    "### Pre-process the Data Set (normalization, grayscale, etc.)"
   ]
  },
  {
   "cell_type": "markdown",
   "metadata": {
    "deletable": true,
    "editable": true
   },
   "source": [
    "Use the code cell (or multiple code cells, if necessary) to implement the first step of your project."
   ]
  },
  {
   "cell_type": "code",
   "execution_count": 4,
   "metadata": {
    "collapsed": false,
    "deletable": true,
    "editable": true
   },
   "outputs": [
    {
     "name": "stdout",
     "output_type": "stream",
     "text": [
      "(4410, 32, 32, 3)\n"
     ]
    },
    {
     "name": "stderr",
     "output_type": "stream",
     "text": [
      "/home/ravelantunes/anaconda3/envs/carnd-term1/lib/python3.5/site-packages/skimage/util/dtype.py:110: UserWarning: Possible precision loss when converting from float32 to uint16\n",
      "  \"%s to %s\" % (dtypeobj_in, dtypeobj))\n"
     ]
    }
   ],
   "source": [
    "import numpy as np\n",
    "from skimage import exposure\n",
    "\n",
    "### Preprocess the data here. Preprocessing steps could include normalization, converting to grayscale, etc.\n",
    "### Feel free to use as many code cells as needed.\n",
    "print(X_valid.shape)\n",
    "\n",
    "def preProcess(X):\n",
    "    original = X\n",
    "#     X = np.concatenate((X, .299 * X[:, :, :, 0] + 0.587 * X[:, :, :, 1] + 0.114 * X[:, :, :, 2]), axis=1)\n",
    "    X = 0.299 * X[:, :, :, 0] + 0.587 * X[:, :, :, 1] + 0.114 * X[:, :, :, 2] \n",
    "    X = (X / 255.).astype(np.float32)\n",
    "\n",
    "    # Apply localized histogram localization  \n",
    "    for i in range(X.shape[0]):\n",
    "        X[i] = exposure.equalize_adapthist(X[i])\n",
    "\n",
    "    X = np.expand_dims(X, axis=4)    \n",
    "#     X = np.concatenate((original, X), axis=3)\n",
    "\n",
    "    return X\n",
    "\n",
    "# preProcess(X_train)\n",
    "X_train = preProcess(X_train)\n",
    "X_valid = preProcess(X_valid)\n"
   ]
  },
  {
   "cell_type": "code",
   "execution_count": 5,
   "metadata": {
    "collapsed": false,
    "deletable": true,
    "editable": true
   },
   "outputs": [
    {
     "name": "stdout",
     "output_type": "stream",
     "text": [
      "(34799, 32, 32, 1)\n",
      "(4410, 32, 32, 1)\n"
     ]
    },
    {
     "data": {
      "text/plain": [
       "array([[ 0.40495867],\n",
       "       [ 0.20661157],\n",
       "       [ 0.14049587],\n",
       "       [ 0.12396694],\n",
       "       [ 0.20661157],\n",
       "       [ 0.38842976],\n",
       "       [ 0.80165291],\n",
       "       [ 0.63636363],\n",
       "       [ 0.33884299],\n",
       "       [ 0.66942149],\n",
       "       [ 0.93388432],\n",
       "       [ 0.95041323],\n",
       "       [ 0.66942149],\n",
       "       [ 0.47107437],\n",
       "       [ 0.66942149],\n",
       "       [ 0.93388432],\n",
       "       [ 0.53719008],\n",
       "       [ 0.19008264],\n",
       "       [ 0.07438017],\n",
       "       [ 0.1570248 ],\n",
       "       [ 0.40495867],\n",
       "       [ 0.6859504 ],\n",
       "       [ 0.53719008],\n",
       "       [ 0.55371898],\n",
       "       [ 0.76859504],\n",
       "       [ 0.61983472],\n",
       "       [ 0.47107437],\n",
       "       [ 0.30578512],\n",
       "       [ 0.27272728],\n",
       "       [ 0.22314049],\n",
       "       [ 0.20661157],\n",
       "       [ 0.20661157]], dtype=float32)"
      ]
     },
     "execution_count": 5,
     "metadata": {},
     "output_type": "execute_result"
    }
   ],
   "source": [
    "#Expand dimension\n",
    "print(X_train.shape)\n",
    "print(X_valid.shape)"
   ]
  },
  {
   "cell_type": "markdown",
   "metadata": {
    "deletable": true,
    "editable": true
   },
   "source": [
    "### Model Architecture"
   ]
  },
  {
   "cell_type": "code",
   "execution_count": 54,
   "metadata": {
    "collapsed": false,
    "deletable": true,
    "editable": true
   },
   "outputs": [],
   "source": [
    "import tensorflow as tf\n",
    "from tensorflow.contrib.layers import flatten\n",
    "\n",
    "def LeNet(x):    \n",
    "    # Hyperparameters\n",
    "    mu = 0\n",
    "    sigma = 0.1\n",
    "    dropout = 0.6\n",
    "\n",
    "    # SOLUTION: Layer 1: Convolutional\n",
    "    conv1_depth = 32\n",
    "    conv1_W = tf.Variable(tf.truncated_normal(shape=(5, 5, 1, conv1_depth), mean = mu, stddev = sigma))\n",
    "    conv1_b = tf.Variable(tf.zeros(conv1_depth))\n",
    "    conv1   = tf.nn.conv2d(x, conv1_W, strides=[1, 1, 1, 1], padding='VALID') + conv1_b\n",
    "\n",
    "    # SOLUTION: Activation.\n",
    "    conv1 = tf.nn.relu(conv1)\n",
    "\n",
    "    # SOLUTION: Pooling.\n",
    "    conv1 = tf.nn.max_pool(conv1, ksize=[1, 2, 2, 1], strides=[1, 2, 2, 1], padding='VALID')\n",
    "\n",
    "    # SOLUTION: Layer 2: Convolutional\n",
    "    conv2_depth = 64\n",
    "    conv2_W = tf.Variable(tf.truncated_normal(shape=(5, 5, conv1_depth, conv2_depth), mean = mu, stddev = sigma))\n",
    "    conv2_b = tf.Variable(tf.zeros(conv2_depth))\n",
    "    conv2   = tf.nn.conv2d(conv1, conv2_W, strides=[1, 1, 1, 1], padding='VALID') + conv2_b\n",
    "\n",
    "    # SOLUTION: Activation.\n",
    "    conv2 = tf.nn.relu(conv2)\n",
    "\n",
    "    # SOLUTION: Pooling.\n",
    "    conv2 = tf.nn.max_pool(conv2, ksize=[1, 2, 2, 1], strides=[1, 2, 2, 1], padding='VALID')\n",
    "    \n",
    "    # SOLUTION: Layer 3: Convolutional\n",
    "    conv3_depth = 128\n",
    "    conv3_W = tf.Variable(tf.truncated_normal(shape=(2, 2, conv2_depth, conv3_depth), mean = mu, stddev = sigma))\n",
    "    conv3_b = tf.Variable(tf.zeros(conv3_depth))\n",
    "    conv3   = tf.nn.conv2d(conv2, conv3_W, strides=[1, 1, 1, 1], padding='VALID') + conv3_b\n",
    "\n",
    "    # SOLUTION: Activation.\n",
    "    conv3 = tf.nn.relu(conv3)\n",
    "\n",
    "    # SOLUTION: Pooling.\n",
    "    conv3 = tf.nn.max_pool(conv3, ksize=[1, 2, 2, 1], strides=[1, 2, 2, 1], padding='VALID')\n",
    "\n",
    "    # SOLUTION: Flatten.\n",
    "    fc0   = flatten(conv3)\n",
    "\n",
    "    # SOLUTION: Layer 3: Fully Connected.\n",
    "    fc1_nodes = 240\n",
    "    fc1_W = tf.Variable(tf.truncated_normal(shape=(512, fc1_nodes), mean = mu, stddev = sigma))\n",
    "    fc1_b = tf.Variable(tf.zeros(fc1_nodes))\n",
    "    fc1   = tf.matmul(fc0, fc1_W) + fc1_b\n",
    "\n",
    "    # SOLUTION: Activation.\n",
    "    fc1    = tf.nn.relu(fc1)\n",
    "    fc1 = tf.nn.dropout(fc1, dropout)\n",
    "\n",
    "    # SOLUTION: Layer 4: Fully Connected.\n",
    "    fc2_nodes = 100\n",
    "    fc2_W  = tf.Variable(tf.truncated_normal(shape=(fc1_nodes, fc2_nodes), mean = mu, stddev = sigma))\n",
    "    fc2_b  = tf.Variable(tf.zeros(fc2_nodes))\n",
    "    fc2    = tf.matmul(fc1, fc2_W) + fc2_b\n",
    "\n",
    "    # SOLUTION: Activation.\n",
    "    fc2    = tf.nn.relu(fc2)\n",
    "    fc2 = tf.nn.dropout(fc2, dropout)\n",
    "\n",
    "    # SOLUTION: Layer 5: Fully Connected.\n",
    "    fc3_W  = tf.Variable(tf.truncated_normal(shape=(fc2_nodes, n_classes), mean = mu, stddev = sigma))\n",
    "    fc3_b  = tf.Variable(tf.zeros(n_classes))\n",
    "    logits = tf.matmul(fc2, fc3_W) + fc3_b\n",
    "\n",
    "    return logits, conv1, conv2"
   ]
  },
  {
   "cell_type": "code",
   "execution_count": 55,
   "metadata": {
    "collapsed": true,
    "deletable": true,
    "editable": true
   },
   "outputs": [],
   "source": [
    "x = tf.placeholder(tf.float32, (None, 32, 32, 1))\n",
    "y = tf.placeholder(tf.int32, (None))\n",
    "one_hot_y = tf.one_hot(y, n_classes)"
   ]
  },
  {
   "cell_type": "code",
   "execution_count": 56,
   "metadata": {
    "collapsed": false,
    "deletable": true,
    "editable": true
   },
   "outputs": [],
   "source": [
    "rate = 0.0008\n",
    "\n",
    "logits, conv1, conv2 = LeNet(x)\n",
    "cross_entropy = tf.nn.softmax_cross_entropy_with_logits(logits, one_hot_y)\n",
    "loss_operation = tf.reduce_mean(cross_entropy)\n",
    "optimizer = tf.train.AdamOptimizer(learning_rate = rate)\n",
    "training_operation = optimizer.minimize(loss_operation)"
   ]
  },
  {
   "cell_type": "markdown",
   "metadata": {
    "deletable": true,
    "editable": true
   },
   "source": [
    "### Train, Validate and Test the Model"
   ]
  },
  {
   "cell_type": "markdown",
   "metadata": {
    "deletable": true,
    "editable": true
   },
   "source": [
    "A validation set can be used to assess how well the model is performing. A low accuracy on the training and validation\n",
    "sets imply underfitting. A high accuracy on the training set but low accuracy on the validation set implies overfitting."
   ]
  },
  {
   "cell_type": "code",
   "execution_count": 57,
   "metadata": {
    "collapsed": false,
    "deletable": true,
    "editable": true
   },
   "outputs": [],
   "source": [
    "### Train your model here.\n",
    "### Calculate and report the accuracy on the training and validation set.\n",
    "### Once a final model architecture is selected, \n",
    "### the accuracy on the test set should be calculated and reported as well.\n",
    "### Feel free to use as many code cells as needed.\n",
    "\n",
    "init = tf.global_variables_initializer()\n",
    "\n",
    "\n",
    "correct_prediction = tf.equal(tf.argmax(logits, 1), tf.argmax(one_hot_y, 1))\n",
    "accuracy_operation = tf.reduce_mean(tf.cast(correct_prediction, tf.float32))\n",
    "saver = tf.train.Saver()\n",
    "\n",
    "def evaluate(X_data, y_data):\n",
    "    num_examples = len(X_data)\n",
    "    total_accuracy = 0\n",
    "    sess = tf.get_default_session()\n",
    "    for offset in range(0, num_examples, BATCH_SIZE):\n",
    "        batch_x, batch_y = X_data[offset:offset+BATCH_SIZE], y_data[offset:offset+BATCH_SIZE]\n",
    "        accuracy = sess.run(accuracy_operation, feed_dict={x: batch_x, y: batch_y})\n",
    "        total_accuracy += (accuracy * len(batch_x))\n",
    "    return total_accuracy / num_examples"
   ]
  },
  {
   "cell_type": "code",
   "execution_count": 59,
   "metadata": {
    "collapsed": false,
    "deletable": true,
    "editable": true
   },
   "outputs": [
    {
     "name": "stdout",
     "output_type": "stream",
     "text": [
      "Training...\n",
      "\n",
      "EPOCH 1 ...Validation Accuracy = 0.042\n",
      "EPOCH 2 ...Validation Accuracy = 0.053\n",
      "EPOCH 3 ...Validation Accuracy = 0.059\n",
      "EPOCH 4 ...Validation Accuracy = 0.068\n",
      "EPOCH 5 ...Validation Accuracy = 0.068\n",
      "EPOCH 6 ...Validation Accuracy = 0.084\n",
      "EPOCH 7 ...Validation Accuracy = 0.110\n",
      "EPOCH 8 ...Validation Accuracy = 0.127\n",
      "EPOCH 9 ...Validation Accuracy = 0.159\n",
      "EPOCH 10 ...Validation Accuracy = 0.190\n",
      "EPOCH 11 ...Validation Accuracy = 0.206\n",
      "EPOCH 12 ...Validation Accuracy = 0.237\n",
      "EPOCH 13 ...Validation Accuracy = 0.256\n",
      "EPOCH 14 ...Validation Accuracy = 0.284\n",
      "EPOCH 15 ...Validation Accuracy = 0.311\n",
      "EPOCH 16 ...Validation Accuracy = 0.344\n",
      "EPOCH 17 ...Validation Accuracy = 0.363\n",
      "EPOCH 18 ...Validation Accuracy = 0.398\n",
      "EPOCH 19 ...Validation Accuracy = 0.412\n",
      "EPOCH 20 ...Validation Accuracy = 0.431\n",
      "EPOCH 21 ...Validation Accuracy = 0.450\n",
      "EPOCH 22 ...Validation Accuracy = 0.489\n",
      "EPOCH 23 ...Validation Accuracy = 0.510\n",
      "EPOCH 24 ...Validation Accuracy = 0.543\n",
      "EPOCH 25 ...Validation Accuracy = 0.552\n",
      "EPOCH 26 ...Validation Accuracy = 0.569\n",
      "EPOCH 27 ...Validation Accuracy = 0.606\n",
      "EPOCH 28 ...Validation Accuracy = 0.608\n",
      "EPOCH 29 ...Validation Accuracy = 0.634\n",
      "EPOCH 30 ...Validation Accuracy = 0.643\n",
      "EPOCH 31 ...Validation Accuracy = 0.667\n",
      "EPOCH 32 ...Validation Accuracy = 0.679\n",
      "EPOCH 33 ...Validation Accuracy = 0.696\n",
      "EPOCH 34 ...Validation Accuracy = 0.699\n",
      "EPOCH 35 ...Validation Accuracy = 0.715\n",
      "EPOCH 36 ...Validation Accuracy = 0.719\n",
      "EPOCH 37 ...Validation Accuracy = 0.735\n",
      "EPOCH 38 ...Validation Accuracy = 0.741\n",
      "EPOCH 39 ...Validation Accuracy = 0.743\n",
      "EPOCH 40 ...Validation Accuracy = 0.761\n",
      "EPOCH 41 ...Validation Accuracy = 0.762\n",
      "EPOCH 42 ...Validation Accuracy = 0.769\n",
      "EPOCH 43 ...Validation Accuracy = 0.768\n",
      "EPOCH 44 ...Validation Accuracy = 0.770\n",
      "EPOCH 45 ...Validation Accuracy = 0.790\n",
      "EPOCH 46 ...Validation Accuracy = 0.791\n",
      "EPOCH 47 ...Validation Accuracy = 0.799\n",
      "EPOCH 48 ...Validation Accuracy = 0.806\n",
      "EPOCH 49 ...Validation Accuracy = 0.806\n",
      "EPOCH 50 ...Validation Accuracy = 0.810\n",
      "EPOCH 51 ...Validation Accuracy = 0.811\n",
      "EPOCH 52 ...Validation Accuracy = 0.822\n",
      "EPOCH 53 ...Validation Accuracy = 0.822\n",
      "EPOCH 54 ...Validation Accuracy = 0.827\n",
      "EPOCH 55 ...Validation Accuracy = 0.834\n",
      "EPOCH 56 ...Validation Accuracy = 0.831\n",
      "EPOCH 57 ...Validation Accuracy = 0.837\n",
      "EPOCH 58 ...Validation Accuracy = 0.837\n",
      "EPOCH 59 ...Validation Accuracy = 0.840\n",
      "EPOCH 60 ...Validation Accuracy = 0.854\n",
      "EPOCH 61 ...Validation Accuracy = 0.859\n",
      "EPOCH 62 ...Validation Accuracy = 0.855\n",
      "EPOCH 63 ...Validation Accuracy = 0.859\n",
      "EPOCH 64 ...Validation Accuracy = 0.861\n",
      "EPOCH 65 ...Validation Accuracy = 0.859\n",
      "EPOCH 66 ...Validation Accuracy = 0.860\n",
      "EPOCH 67 ...Validation Accuracy = 0.869\n",
      "EPOCH 68 ...Validation Accuracy = 0.867\n",
      "EPOCH 69 ...Validation Accuracy = 0.869\n",
      "EPOCH 70 ...Validation Accuracy = 0.867\n",
      "EPOCH 71 ...Validation Accuracy = 0.867\n",
      "EPOCH 72 ...Validation Accuracy = 0.874\n",
      "EPOCH 73 ...Validation Accuracy = 0.877\n",
      "EPOCH 74 ...Validation Accuracy = 0.879\n",
      "EPOCH 75 ...Validation Accuracy = 0.878\n",
      "EPOCH 76 ...Validation Accuracy = 0.873\n",
      "EPOCH 77 ...Validation Accuracy = 0.882\n",
      "EPOCH 78 ...Validation Accuracy = 0.886\n",
      "EPOCH 79 ...Validation Accuracy = 0.883\n",
      "EPOCH 80 ...Validation Accuracy = 0.892\n",
      "EPOCH 81 ...Validation Accuracy = 0.895\n",
      "EPOCH 82 ...Validation Accuracy = 0.895\n",
      "EPOCH 83 ...Validation Accuracy = 0.884\n",
      "EPOCH 84 ...Validation Accuracy = 0.895\n",
      "EPOCH 85 ...Validation Accuracy = 0.897\n",
      "EPOCH 86 ...Validation Accuracy = 0.897\n",
      "EPOCH 87 ...Validation Accuracy = 0.896\n",
      "EPOCH 88 ...Validation Accuracy = 0.895\n",
      "EPOCH 89 ...Validation Accuracy = 0.899\n",
      "EPOCH 90 ...Validation Accuracy = 0.906\n",
      "EPOCH 91 ...Validation Accuracy = 0.899\n",
      "EPOCH 92 ...Validation Accuracy = 0.902\n",
      "EPOCH 93 ...Validation Accuracy = 0.898\n",
      "EPOCH 94 ...Validation Accuracy = 0.903\n",
      "EPOCH 95 ...Validation Accuracy = 0.902\n",
      "EPOCH 96 ...Validation Accuracy = 0.911\n",
      "EPOCH 97 ...Validation Accuracy = 0.904\n",
      "EPOCH 98 ...Validation Accuracy = 0.902\n",
      "EPOCH 99 ...Validation Accuracy = 0.912\n",
      "EPOCH 100 ...Validation Accuracy = 0.905\n",
      "EPOCH 101 ...Validation Accuracy = 0.910\n",
      "EPOCH 102 ...Validation Accuracy = 0.904\n",
      "EPOCH 103 ...Validation Accuracy = 0.905\n",
      "EPOCH 104 ...Validation Accuracy = 0.904\n",
      "EPOCH 105 ...Validation Accuracy = 0.911\n",
      "EPOCH 106 ...Validation Accuracy = 0.910\n",
      "EPOCH 107 ...Validation Accuracy = 0.914\n",
      "EPOCH 108 ...Validation Accuracy = 0.914\n",
      "EPOCH 109 ...Validation Accuracy = 0.917\n",
      "EPOCH 110 ...Validation Accuracy = 0.915\n",
      "EPOCH 111 ...Validation Accuracy = 0.915\n",
      "EPOCH 112 ...Validation Accuracy = 0.919\n",
      "EPOCH 113 ...Validation Accuracy = 0.915\n",
      "EPOCH 114 ...Validation Accuracy = 0.915\n",
      "EPOCH 115 ...Validation Accuracy = 0.917\n",
      "EPOCH 116 ...Validation Accuracy = 0.917\n",
      "EPOCH 117 ...Validation Accuracy = 0.917\n",
      "EPOCH 118 ...Validation Accuracy = 0.919\n",
      "EPOCH 119 ...Validation Accuracy = 0.918\n",
      "EPOCH 120 ...Validation Accuracy = 0.916\n",
      "EPOCH 121 ...Validation Accuracy = 0.917\n",
      "EPOCH 122 ...Validation Accuracy = 0.922\n",
      "EPOCH 123 ...Validation Accuracy = 0.915\n",
      "EPOCH 124 ...Validation Accuracy = 0.911\n",
      "EPOCH 125 ...Validation Accuracy = 0.917\n",
      "EPOCH 126 ...Validation Accuracy = 0.909\n",
      "EPOCH 127 ...Validation Accuracy = 0.922\n",
      "EPOCH 128 ...Validation Accuracy = 0.913\n",
      "EPOCH 129 ...Validation Accuracy = 0.913\n",
      "EPOCH 130 ...Validation Accuracy = 0.909\n",
      "EPOCH 131 ...Validation Accuracy = 0.911\n",
      "EPOCH 132 ...Validation Accuracy = 0.902\n",
      "EPOCH 133 ...Validation Accuracy = 0.905\n",
      "EPOCH 134 ...Validation Accuracy = 0.905\n",
      "EPOCH 135 ...Validation Accuracy = 0.903\n",
      "EPOCH 136 ...Validation Accuracy = 0.881\n",
      "EPOCH 137 ...Validation Accuracy = 0.885\n",
      "EPOCH 138 ...Validation Accuracy = 0.885\n",
      "EPOCH 139 ...Validation Accuracy = 0.872\n",
      "EPOCH 140 ...Validation Accuracy = 0.869\n",
      "EPOCH 141 ...Validation Accuracy = 0.867\n",
      "EPOCH 142 ...Validation Accuracy = 0.850\n",
      "EPOCH 143 ...Validation Accuracy = 0.800\n",
      "EPOCH 144 ...Validation Accuracy = 0.736\n",
      "EPOCH 145 ...Validation Accuracy = 0.744\n",
      "EPOCH 146 ...Validation Accuracy = 0.743\n",
      "EPOCH 147 ...Validation Accuracy = 0.791\n",
      "EPOCH 148 ...Validation Accuracy = 0.796\n",
      "EPOCH 149 ...Validation Accuracy = 0.786\n",
      "EPOCH 150 ...Validation Accuracy = 0.760\n",
      "EPOCH 151 ...Validation Accuracy = 0.733\n",
      "EPOCH 152 ...Validation Accuracy = 0.718\n",
      "EPOCH 153 ...Validation Accuracy = 0.670\n",
      "EPOCH 154 ...Validation Accuracy = 0.566\n",
      "EPOCH 155 ...Validation Accuracy = 0.559\n",
      "EPOCH 156 ...Validation Accuracy = 0.532\n",
      "EPOCH 157 ...Validation Accuracy = 0.491\n",
      "EPOCH 158 ...Validation Accuracy = 0.378\n",
      "EPOCH 159 ...Validation Accuracy = 0.320\n",
      "EPOCH 160 ...Validation Accuracy = 0.299\n",
      "EPOCH 161 ...Validation Accuracy = 0.190\n",
      "EPOCH 162 ...Validation Accuracy = 0.199\n",
      "EPOCH 163 ...Validation Accuracy = 0.163\n",
      "EPOCH 164 ...Validation Accuracy = 0.155\n",
      "EPOCH 165 ...Validation Accuracy = 0.129\n",
      "EPOCH 166 ...Validation Accuracy = 0.120\n",
      "EPOCH 167 ...Validation Accuracy = 0.096\n",
      "EPOCH 168 ...Validation Accuracy = 0.099\n",
      "EPOCH 169 ...Validation Accuracy = 0.102\n",
      "EPOCH 170 ...Validation Accuracy = 0.088\n",
      "EPOCH 171 ...Validation Accuracy = 0.087\n",
      "EPOCH 172 ...Validation Accuracy = 0.084\n",
      "EPOCH 173 ...Validation Accuracy = 0.082\n",
      "EPOCH 174 ...Validation Accuracy = 0.080\n",
      "EPOCH 175 ...Validation Accuracy = 0.102\n",
      "EPOCH 176 ...Validation Accuracy = 0.083\n",
      "EPOCH 177 ...Validation Accuracy = 0.089\n",
      "EPOCH 178 ...Validation Accuracy = 0.079\n",
      "EPOCH 179 ...Validation Accuracy = 0.085\n",
      "EPOCH 180 ...Validation Accuracy = 0.075\n",
      "EPOCH 181 ...Validation Accuracy = 0.075\n",
      "EPOCH 182 ...Validation Accuracy = 0.072\n",
      "EPOCH 183 ...Validation Accuracy = 0.073\n",
      "EPOCH 184 ...Validation Accuracy = 0.082\n",
      "EPOCH 185 ...Validation Accuracy = 0.081\n",
      "EPOCH 186 ...Validation Accuracy = 0.073\n",
      "EPOCH 187 ...Validation Accuracy = 0.074\n",
      "EPOCH 188 ...Validation Accuracy = 0.065\n",
      "EPOCH 189 ...Validation Accuracy = 0.070\n",
      "EPOCH 190 ...Validation Accuracy = 0.076\n",
      "EPOCH 191 ...Validation Accuracy = 0.077\n",
      "EPOCH 192 ...Validation Accuracy = 0.068\n",
      "EPOCH 193 ...Validation Accuracy = 0.070\n",
      "EPOCH 194 ...Validation Accuracy = 0.064\n",
      "EPOCH 195 ...Validation Accuracy = 0.067\n",
      "EPOCH 196 ...Validation Accuracy = 0.066\n",
      "EPOCH 197 ...Validation Accuracy = 0.066\n",
      "EPOCH 198 ...Validation Accuracy = 0.065\n",
      "EPOCH 199 ...Validation Accuracy = 0.066\n",
      "EPOCH 200 ...Validation Accuracy = 0.068\n",
      "0909\n",
      "Model saved\n"
     ]
    },
    {
     "data": {
      "image/png": "[encoded data removed]",
      "text/plain": [
       "<matplotlib.figure.Figure at 0x7faeadd11eb8>"
      ]
     },
     "metadata": {},
     "output_type": "display_data"
    }
   ],
   "source": [
    "from sklearn.utils import shuffle\n",
    "\n",
    "EPOCHS = 200\n",
    "BATCH_SIZE = 12000\n",
    "with tf.Session() as sess:\n",
    "    sess.run(tf.global_variables_initializer())\n",
    "    num_examples = len(X_train)\n",
    "    \n",
    "    print(\"Training...\")\n",
    "    print()\n",
    "    for i in range(EPOCHS):\n",
    "        X_train, y_train = shuffle(X_train, y_train)\n",
    "        for offset in range(0, num_examples, BATCH_SIZE):\n",
    "            end = offset + BATCH_SIZE\n",
    "            batch_x, batch_y = X_train[offset:end], y_train[offset:end]\n",
    "            sess.run(training_operation, feed_dict={x: batch_x, y: batch_y})\n",
    "            \n",
    "        validation_accuracy = evaluate(X_valid, y_valid)\n",
    "        print(\"EPOCH {} ...\".format(i+1) + \"Validation Accuracy = {:.3f}\".format(validation_accuracy))        \n",
    "#         print(\"EPOCH {} ...\".format(i+1))\n",
    "#         print(\"Validation Accuracy = {:.3f}\".format(validation_accuracy))\n",
    "#         print()\n",
    "        \n",
    "    saver.save(sess, './lenet')\n",
    "    outputFeatureMap([X_train[1]], conv1)\n",
    "    print('0909')\n",
    "#     outputFeatureMap([X_train[1]], conv2)\n",
    "    print(\"Model saved\")"
   ]
  },
  {
   "cell_type": "markdown",
   "metadata": {
    "deletable": true,
    "editable": true
   },
   "source": [
    "---\n",
    "\n",
    "## Step 3: Test a Model on New Images\n",
    "\n",
    "To give yourself more insight into how your model is working, download at least five pictures of German traffic signs from the web and use your model to predict the traffic sign type.\n",
    "\n",
    "You may find `signnames.csv` useful as it contains mappings from the class id (integer) to the actual sign name."
   ]
  },
  {
   "cell_type": "markdown",
   "metadata": {
    "deletable": true,
    "editable": true
   },
   "source": [
    "### Load and Output the Images"
   ]
  },
  {
   "cell_type": "code",
   "execution_count": 144,
   "metadata": {
    "collapsed": true,
    "deletable": true,
    "editable": true
   },
   "outputs": [],
   "source": [
    "### Load the images and plot them here.\n",
    "### Feel free to use as many code cells as needed."
   ]
  },
  {
   "cell_type": "markdown",
   "metadata": {
    "deletable": true,
    "editable": true
   },
   "source": [
    "### Predict the Sign Type for Each Image"
   ]
  },
  {
   "cell_type": "code",
   "execution_count": null,
   "metadata": {
    "collapsed": true,
    "deletable": true,
    "editable": true
   },
   "outputs": [],
   "source": [
    "### Run the predictions here and use the model to output the prediction for each image.\n",
    "### Make sure to pre-process the images with the same pre-processing pipeline used earlier.\n",
    "### Feel free to use as many code cells as needed."
   ]
  },
  {
   "cell_type": "markdown",
   "metadata": {
    "deletable": true,
    "editable": true
   },
   "source": [
    "### Analyze Performance"
   ]
  },
  {
   "cell_type": "code",
   "execution_count": null,
   "metadata": {
    "collapsed": true,
    "deletable": true,
    "editable": true
   },
   "outputs": [],
   "source": [
    "### Calculate the accuracy for these 5 new images. \n",
    "### For example, if the model predicted 1 out of 5 signs correctly, it's 20% accurate on these new images."
   ]
  },
  {
   "cell_type": "markdown",
   "metadata": {
    "deletable": true,
    "editable": true
   },
   "source": [
    "### Output Top 5 Softmax Probabilities For Each Image Found on the Web"
   ]
  },
  {
   "cell_type": "markdown",
   "metadata": {
    "deletable": true,
    "editable": true
   },
   "source": [
    "For each of the new images, print out the model's softmax probabilities to show the **certainty** of the model's predictions (limit the output to the top 5 probabilities for each image). [`tf.nn.top_k`](https://www.tensorflow.org/versions/r0.12/api_docs/python/nn.html#top_k) could prove helpful here. \n",
    "\n",
    "The example below demonstrates how tf.nn.top_k can be used to find the top k predictions for each image.\n",
    "\n",
    "`tf.nn.top_k` will return the values and indices (class ids) of the top k predictions. So if k=3, for each sign, it'll return the 3 largest probabilities (out of a possible 43) and the correspoding class ids.\n",
    "\n",
    "Take this numpy array as an example. The values in the array represent predictions. The array contains softmax probabilities for five candidate images with six possible classes. `tk.nn.top_k` is used to choose the three classes with the highest probability:\n",
    "\n",
    "```\n",
    "# (5, 6) array\n",
    "a = np.array([[ 0.24879643,  0.07032244,  0.12641572,  0.34763842,  0.07893497,\n",
    "         0.12789202],\n",
    "       [ 0.28086119,  0.27569815,  0.08594638,  0.0178669 ,  0.18063401,\n",
    "         0.15899337],\n",
    "       [ 0.26076848,  0.23664738,  0.08020603,  0.07001922,  0.1134371 ,\n",
    "         0.23892179],\n",
    "       [ 0.11943333,  0.29198961,  0.02605103,  0.26234032,  0.1351348 ,\n",
    "         0.16505091],\n",
    "       [ 0.09561176,  0.34396535,  0.0643941 ,  0.16240774,  0.24206137,\n",
    "         0.09155967]])\n",
    "```\n",
    "\n",
    "Running it through `sess.run(tf.nn.top_k(tf.constant(a), k=3))` produces:\n",
    "\n",
    "```\n",
    "TopKV2(values=array([[ 0.34763842,  0.24879643,  0.12789202],\n",
    "       [ 0.28086119,  0.27569815,  0.18063401],\n",
    "       [ 0.26076848,  0.23892179,  0.23664738],\n",
    "       [ 0.29198961,  0.26234032,  0.16505091],\n",
    "       [ 0.34396535,  0.24206137,  0.16240774]]), indices=array([[3, 0, 5],\n",
    "       [0, 1, 4],\n",
    "       [0, 5, 1],\n",
    "       [1, 3, 5],\n",
    "       [1, 4, 3]], dtype=int32))\n",
    "```\n",
    "\n",
    "Looking just at the first row we get `[ 0.34763842,  0.24879643,  0.12789202]`, you can confirm these are the 3 largest probabilities in `a`. You'll also notice `[3, 0, 5]` are the corresponding indices."
   ]
  },
  {
   "cell_type": "code",
   "execution_count": null,
   "metadata": {
    "collapsed": true,
    "deletable": true,
    "editable": true
   },
   "outputs": [],
   "source": [
    "### Print out the top five softmax probabilities for the predictions on the German traffic sign images found on the web. \n",
    "### Feel free to use as many code cells as needed."
   ]
  },
  {
   "cell_type": "markdown",
   "metadata": {
    "deletable": true,
    "editable": true
   },
   "source": [
    "---\n",
    "\n",
    "## Step 4: Visualize the Neural Network's State with Test Images\n",
    "\n",
    " This Section is not required to complete but acts as an additional excersise for understaning the output of a neural network's weights. While neural networks can be a great learning device they are often referred to as a black box. We can understand what the weights of a neural network look like better by plotting their feature maps. After successfully training your neural network you can see what it's feature maps look like by plotting the output of the network's weight layers in response to a test stimuli image. From these plotted feature maps, it's possible to see what characteristics of an image the network finds interesting. For a sign, maybe the inner network feature maps react with high activation to the sign's boundary outline or to the contrast in the sign's painted symbol.\n",
    "\n",
    " Provided for you below is the function code that allows you to get the visualization output of any tensorflow weight layer you want. The inputs to the function should be a stimuli image, one used during training or a new one you provided, and then the tensorflow variable name that represents the layer's state during the training process, for instance if you wanted to see what the [LeNet lab's](https://classroom.udacity.com/nanodegrees/nd013/parts/fbf77062-5703-404e-b60c-95b78b2f3f9e/modules/6df7ae49-c61c-4bb2-a23e-6527e69209ec/lessons/601ae704-1035-4287-8b11-e2c2716217ad/concepts/d4aca031-508f-4e0b-b493-e7b706120f81) feature maps looked like for it's second convolutional layer you could enter conv2 as the tf_activation variable.\n",
    "\n",
    "For an example of what feature map outputs look like, check out NVIDIA's results in their paper [End-to-End Deep Learning for Self-Driving Cars](https://devblogs.nvidia.com/parallelforall/deep-learning-self-driving-cars/) in the section Visualization of internal CNN State. NVIDIA was able to show that their network's inner weights had high activations to road boundary lines by comparing feature maps from an image with a clear path to one without. Try experimenting with a similar test to show that your trained network's weights are looking for interesting features, whether it's looking at differences in feature maps from images with or without a sign, or even what feature maps look like in a trained network vs a completely untrained one on the same sign image.\n",
    "\n",
    "<figure>\n",
    " <img src=\"visualize_cnn.png\" width=\"380\" alt=\"Combined Image\" />\n",
    " <figcaption>\n",
    " <p></p> \n",
    " <p style=\"text-align: center;\"> Your output should look something like this (above)</p> \n",
    " </figcaption>\n",
    "</figure>\n",
    " <p></p> \n"
   ]
  },
  {
   "cell_type": "code",
   "execution_count": 11,
   "metadata": {
    "collapsed": true,
    "deletable": true,
    "editable": true
   },
   "outputs": [],
   "source": [
    "### Visualize your network's feature maps here.\n",
    "### Feel free to use as many code cells as needed.\n",
    "\n",
    "# image_input: the test image being fed into the network to produce the feature maps\n",
    "# tf_activation: should be a tf variable name used during your training procedure that represents the calculated state of a specific weight layer\n",
    "# activation_min/max: can be used to view the activation contrast in more detail, by default matplot sets min and max to the actual min and max values of the output\n",
    "# plt_num: used to plot out multiple different weight feature map sets on the same block, just extend the plt number for each new feature map entry\n",
    "\n",
    "def outputFeatureMap(image_input, tf_activation, activation_min=-1, activation_max=-1 ,plt_num=1):\n",
    "    # Here make sure to preprocess your image_input in a way your network expects\n",
    "    # with size, normalization, ect if needed\n",
    "    # image_input =\n",
    "    # Note: x should be the same name as your network's tensorflow data placeholder variable\n",
    "    # If you get an error tf_activation is not defined it maybe having trouble accessing the variable from inside a function\n",
    "    activation = tf_activation.eval(session=sess,feed_dict={x : image_input})\n",
    "    featuremaps = activation.shape[3]\n",
    "    plt.figure(plt_num, figsize=(15,15))\n",
    "    for featuremap in range(featuremaps):\n",
    "        plt.subplot(6,8, featuremap+1) # sets the number of feature maps to show on each row and column\n",
    "        plt.title('FeatureMap ' + str(featuremap)) # displays the feature map number\n",
    "        if activation_min != -1 & activation_max != -1:\n",
    "            plt.imshow(activation[0,:,:, featuremap], interpolation=\"nearest\", vmin =activation_min, vmax=activation_max, cmap=\"gray\")\n",
    "        elif activation_max != -1:\n",
    "            plt.imshow(activation[0,:,:, featuremap], interpolation=\"nearest\", vmax=activation_max, cmap=\"gray\")\n",
    "        elif activation_min !=-1:\n",
    "            plt.imshow(activation[0,:,:, featuremap], interpolation=\"nearest\", vmin=activation_min, cmap=\"gray\")\n",
    "        else:\n",
    "            plt.imshow(activation[0,:,:, featuremap], interpolation=\"nearest\", cmap=\"gray\")"
   ]
  },
  {
   "cell_type": "code",
   "execution_count": 173,
   "metadata": {
    "collapsed": false,
    "deletable": true,
    "editable": true
   },
   "outputs": [
    {
     "ename": "NameError",
     "evalue": "name 'conv2' is not defined",
     "output_type": "error",
     "traceback": [
      "\u001b[0;31m---------------------------------------------------------------------------\u001b[0m",
      "\u001b[0;31mNameError\u001b[0m                                 Traceback (most recent call last)",
      "\u001b[0;32m<ipython-input-173-dfafd208a712>\u001b[0m in \u001b[0;36m<module>\u001b[0;34m()\u001b[0m\n\u001b[0;32m----> 1\u001b[0;31m \u001b[0moutputFeatureMap\u001b[0m\u001b[0;34m(\u001b[0m\u001b[0mX_train\u001b[0m\u001b[0;34m[\u001b[0m\u001b[0;36m0\u001b[0m\u001b[0;34m]\u001b[0m\u001b[0;34m,\u001b[0m \u001b[0mconv2\u001b[0m\u001b[0;34m)\u001b[0m\u001b[0;34m\u001b[0m\u001b[0m\n\u001b[0m",
      "\u001b[0;31mNameError\u001b[0m: name 'conv2' is not defined"
     ]
    }
   ],
   "source": [
    "outputFeatureMap(X_train[0], conv2)"
   ]
  },
  {
   "cell_type": "markdown",
   "metadata": {
    "deletable": true,
    "editable": true
   },
   "source": [
    "### Question 9\n",
    "\n",
    "Discuss how you used the visual output of your trained network's feature maps to show that it had learned to look for interesting characteristics in traffic sign images\n"
   ]
  },
  {
   "cell_type": "markdown",
   "metadata": {
    "deletable": true,
    "editable": true
   },
   "source": [
    "**Answer:**"
   ]
  },
  {
   "cell_type": "markdown",
   "metadata": {
    "deletable": true,
    "editable": true
   },
   "source": [
    "> **Note**: Once you have completed all of the code implementations and successfully answered each question above, you may finalize your work by exporting the iPython Notebook as an HTML document. You can do this by using the menu above and navigating to  \\n\",\n",
    "    \"**File -> Download as -> HTML (.html)**. Include the finished document along with this notebook as your submission."
   ]
  },
  {
   "cell_type": "markdown",
   "metadata": {
    "deletable": true,
    "editable": true
   },
   "source": [
    "### Project Writeup\n",
    "\n",
    "Once you have completed the code implementation, document your results in a project writeup using this [template](https://github.com/udacity/CarND-Traffic-Sign-Classifier-Project/blob/master/writeup_template.md) as a guide. The writeup can be in a markdown or pdf file. "
   ]
  }
 ],
 "metadata": {
  "anaconda-cloud": {},
  "kernelspec": {
   "display_name": "Python 3",
   "language": "python",
   "name": "python3"
  },
  "language_info": {
   "codemirror_mode": {
    "name": "ipython",
    "version": 3
   },
   "file_extension": ".py",
   "mimetype": "text/x-python",
   "name": "python",
   "nbconvert_exporter": "python",
   "pygments_lexer": "ipython3",
   "version": "3.5.2"
  },
  "widgets": {
   "state": {},
   "version": "1.1.2"
  }
 },
 "nbformat": 4,
 "nbformat_minor": 1
}
