{
 "cells": [
  {
   "cell_type": "markdown",
   "metadata": {
    "deletable": true,
    "editable": true
   },
   "source": [
    "# Self-Driving Car Engineer Nanodegree\n",
    "\n",
    "## Deep Learning\n",
    "\n",
    "## Project: Build a Traffic Sign Recognition Classifier\n",
    "\n",
    "In this notebook, a template is provided for you to implement your functionality in stages, which is required to successfully complete this project. If additional code is required that cannot be included in the notebook, be sure that the Python code is successfully imported and included in your submission if necessary. \n",
    "\n",
    "> **Note**: Once you have completed all of the code implementations, you need to finalize your work by exporting the iPython Notebook as an HTML document. Before exporting the notebook to html, all of the code cells need to have been run so that reviewers can see the final implementation and output. You can then export the notebook by using the menu above and navigating to  \\n\",\n",
    "    \"**File -> Download as -> HTML (.html)**. Include the finished document along with this notebook as your submission. \n",
    "\n",
    "In addition to implementing code, there is a writeup to complete. The writeup should be completed in a separate file, which can be either a markdown file or a pdf document. There is a [write up template](https://github.com/udacity/CarND-Traffic-Sign-Classifier-Project/blob/master/writeup_template.md) that can be used to guide the writing process. Completing the code template and writeup template will cover all of the [rubric points](https://review.udacity.com/#!/rubrics/481/view) for this project.\n",
    "\n",
    "The [rubric](https://review.udacity.com/#!/rubrics/481/view) contains \"Stand Out Suggestions\" for enhancing the project beyond the minimum requirements. The stand out suggestions are optional. If you decide to pursue the \"stand out suggestions\", you can include the code in this Ipython notebook and also discuss the results in the writeup file.\n",
    "\n",
    "\n",
    ">**Note:** Code and Markdown cells can be executed using the **Shift + Enter** keyboard shortcut. In addition, Markdown cells can be edited by typically double-clicking the cell to enter edit mode."
   ]
  },
  {
   "cell_type": "markdown",
   "metadata": {
    "deletable": true,
    "editable": true
   },
   "source": [
    "---\n",
    "## Step 0: Load The Data"
   ]
  },
  {
   "cell_type": "code",
   "execution_count": 1,
   "metadata": {
    "collapsed": false,
    "deletable": true,
    "editable": true
   },
   "outputs": [],
   "source": [
    "# Load pickled data\n",
    "import pickle\n",
    "\n",
    "training_file = './train.p'\n",
    "validation_file='./valid.p'\n",
    "testing_file = './test.p'\n",
    "\n",
    "with open(training_file, mode='rb') as f:\n",
    "    train = pickle.load(f)\n",
    "with open(validation_file, mode='rb') as f:\n",
    "    valid = pickle.load(f)\n",
    "with open(testing_file, mode='rb') as f:\n",
    "    test = pickle.load(f)\n",
    "    \n",
    "X_train, y_train = train['features'], train['labels']\n",
    "X_valid, y_valid = valid['features'], valid['labels']\n",
    "X_test, y_test = test['features'], test['labels']"
   ]
  },
  {
   "cell_type": "markdown",
   "metadata": {
    "deletable": true,
    "editable": true
   },
   "source": [
    "---\n",
    "\n",
    "## Step 1: Dataset Summary & Exploration\n",
    "\n",
    "The pickled data is a dictionary with 4 key/value pairs:\n",
    "\n",
    "- `'features'` is a 4D array containing raw pixel data of the traffic sign images, (num examples, width, height, channels).\n",
    "- `'labels'` is a 1D array containing the label/class id of the traffic sign. The file `signnames.csv` contains id -> name mappings for each id.\n",
    "- `'sizes'` is a list containing tuples, (width, height) representing the original width and height the image.\n",
    "- `'coords'` is a list containing tuples, (x1, y1, x2, y2) representing coordinates of a bounding box around the sign in the image. **THESE COORDINATES ASSUME THE ORIGINAL IMAGE. THE PICKLED DATA CONTAINS RESIZED VERSIONS (32 by 32) OF THESE IMAGES**\n",
    "\n",
    "Complete the basic data summary below. Use python, numpy and/or pandas methods to calculate the data summary rather than hard coding the results. For example, the [pandas shape method](http://pandas.pydata.org/pandas-docs/stable/generated/pandas.DataFrame.shape.html) might be useful for calculating some of the summary results. "
   ]
  },
  {
   "cell_type": "markdown",
   "metadata": {
    "deletable": true,
    "editable": true
   },
   "source": [
    "### Provide a Basic Summary of the Data Set Using Python, Numpy and/or Pandas"
   ]
  },
  {
   "cell_type": "code",
   "execution_count": 5,
   "metadata": {
    "collapsed": false,
    "deletable": true,
    "editable": true
   },
   "outputs": [
    {
     "name": "stdout",
     "output_type": "stream",
     "text": [
      "Number of training examples = (34799, 32, 32, 3)\n",
      "Number of testing examples = 12630\n",
      "Image data shape = (32, 32)\n",
      "Number of classes = 43\n"
     ]
    }
   ],
   "source": [
    "import numpy as np\n",
    "### Replace each question mark with the appropriate value. \n",
    "### Use python, pandas or numpy methods rather than hard coding the results\n",
    "\n",
    "# Number of training examples\n",
    "n_train = X_train.shape[0]\n",
    "\n",
    "# Number of testing examples.\n",
    "n_test = X_test.shape[0]\n",
    "\n",
    "# What's the shape of an traffic sign image?\n",
    "image_shape = (X_test.shape[1],X_test.shape[2])\n",
    "\n",
    "# How many unique classes/labels there are in the dataset.\n",
    "n_classes = len(np.unique(y_train))\n",
    "\n",
    "print(\"Number of training examples =\", X_train.shape)\n",
    "print(\"Number of testing examples =\", n_test)\n",
    "print(\"Image data shape =\", image_shape)\n",
    "print(\"Number of classes =\", n_classes)"
   ]
  },
  {
   "cell_type": "code",
   "execution_count": 150,
   "metadata": {
    "collapsed": false,
    "deletable": true,
    "editable": true
   },
   "outputs": [
    {
     "data": {
      "image/png": "[encoded data removed]",
      "text/plain": [
       "<matplotlib.figure.Figure at 0x7f559c469da0>"
      ]
     },
     "metadata": {},
     "output_type": "display_data"
    }
   ],
   "source": [
    "# histogram of label frequency\n",
    "hist, bins = np.histogram(y_train, bins=n_classes)\n",
    "width = 0.5 * (bins[1] - bins[0])\n",
    "center = (bins[:-1] + bins[1:]) / 2\n",
    "plt.bar(center, hist, align='center', width=width)\n",
    "plt.show()"
   ]
  },
  {
   "cell_type": "markdown",
   "metadata": {
    "deletable": true,
    "editable": true
   },
   "source": [
    "### Include an exploratory visualization of the dataset"
   ]
  },
  {
   "cell_type": "markdown",
   "metadata": {
    "deletable": true,
    "editable": true
   },
   "source": [
    "Visualize the German Traffic Signs Dataset using the pickled file(s). This is open ended, suggestions include: plotting traffic sign images, plotting the count of each sign, etc.\n",
    "\n",
    "The [Matplotlib](http://matplotlib.org/) [examples](http://matplotlib.org/examples/index.html) and [gallery](http://matplotlib.org/gallery.html) pages are a great resource for doing visualizations in Python.\n",
    "\n",
    "**NOTE:** It's recommended you start with something simple first. If you wish to do more, come back to it after you've completed the rest of the sections."
   ]
  },
  {
   "cell_type": "code",
   "execution_count": 155,
   "metadata": {
    "collapsed": false,
    "deletable": true,
    "editable": true
   },
   "outputs": [
    {
     "data": {
      "text/plain": [
       "<matplotlib.image.AxesImage at 0x7f559b9bcb38>"
      ]
     },
     "execution_count": 155,
     "metadata": {},
     "output_type": "execute_result"
    },
    {
     "data": {
      "image/png": "[encoded data removed]",
      "text/plain": [
       "<matplotlib.figure.Figure at 0x7f554e5f8f28>"
      ]
     },
     "metadata": {},
     "output_type": "display_data"
    },
    {
     "data": {
      "image/png": "[encoded data removed]",
      "text/plain": [
       "<matplotlib.figure.Figure at 0x7f554f66ab38>"
      ]
     },
     "metadata": {},
     "output_type": "display_data"
    },
    {
     "data": {
      "image/png": "[encoded data removed]",
      "text/plain": [
       "<matplotlib.figure.Figure at 0x7f556c22e5c0>"
      ]
     },
     "metadata": {},
     "output_type": "display_data"
    },
    {
     "data": {
      "image/png": "[encoded data removed]",
      "text/plain": [
       "<matplotlib.figure.Figure at 0x7f555bac2dd8>"
      ]
     },
     "metadata": {},
     "output_type": "display_data"
    }
   ],
   "source": [
    "import matplotlib.pyplot as plt\n",
    "import matplotlib.image as mpimg\n",
    "import numpy as np\n",
    "\n",
    "# Visualizations will be shown in the notebook.\n",
    "%matplotlib inline\n",
    "\n",
    "from skimage import exposure\n",
    "\n",
    "plt.figure()\n",
    "plt.imshow(X_train[20400])\n",
    "\n",
    "plt.figure()\n",
    "plt.imshow(X_train[10400])\n",
    "\n",
    "plt.figure()\n",
    "plt.imshow(X_train[0])\n",
    "\n",
    "plt.figure()\n",
    "plt.imshow(X_train[1000])\n",
    "\n"
   ]
  },
  {
   "cell_type": "markdown",
   "metadata": {
    "deletable": true,
    "editable": true
   },
   "source": [
    "----\n",
    "\n",
    "## Step 2: Design and Test a Model Architecture\n",
    "\n",
    "Design and implement a deep learning model that learns to recognize traffic signs. Train and test your model on the [German Traffic Sign Dataset](http://benchmark.ini.rub.de/?section=gtsrb&subsection=dataset).\n",
    "\n",
    "The LeNet-5 implementation shown in the [classroom](https://classroom.udacity.com/nanodegrees/nd013/parts/fbf77062-5703-404e-b60c-95b78b2f3f9e/modules/6df7ae49-c61c-4bb2-a23e-6527e69209ec/lessons/601ae704-1035-4287-8b11-e2c2716217ad/concepts/d4aca031-508f-4e0b-b493-e7b706120f81) at the end of the CNN lesson is a solid starting point. You'll have to change the number of classes and possibly the preprocessing, but aside from that it's plug and play! \n",
    "\n",
    "With the LeNet-5 solution from the lecture, you should expect a validation set accuracy of about 0.89. To meet specifications, the validation set accuracy will need to be at least 0.93. It is possible to get an even higher accuracy, but 0.93 is the minimum for a successful project submission. \n",
    "\n",
    "There are various aspects to consider when thinking about this problem:\n",
    "\n",
    "- Neural network architecture (is the network over or underfitting?)\n",
    "- Play around preprocessing techniques (normalization, rgb to grayscale, etc)\n",
    "- Number of examples per label (some have more than others).\n",
    "- Generate fake data.\n",
    "\n",
    "Here is an example of a [published baseline model on this problem](http://yann.lecun.com/exdb/publis/pdf/sermanet-ijcnn-11.pdf). It's not required to be familiar with the approach used in the paper but, it's good practice to try to read papers like these."
   ]
  },
  {
   "cell_type": "markdown",
   "metadata": {
    "deletable": true,
    "editable": true
   },
   "source": [
    "### Pre-process the Data Set (normalization, grayscale, etc.)"
   ]
  },
  {
   "cell_type": "markdown",
   "metadata": {
    "deletable": true,
    "editable": true
   },
   "source": [
    "Use the code cell (or multiple code cells, if necessary) to implement the first step of your project."
   ]
  },
  {
   "cell_type": "code",
   "execution_count": 156,
   "metadata": {
    "collapsed": false,
    "deletable": true,
    "editable": true
   },
   "outputs": [
    {
     "name": "stdout",
     "output_type": "stream",
     "text": [
      "Preprocessing X_train\n"
     ]
    },
    {
     "name": "stderr",
     "output_type": "stream",
     "text": [
      "/home/ravelantunes/anaconda3/envs/carnd-term1/lib/python3.5/site-packages/skimage/util/dtype.py:110: UserWarning: Possible precision loss when converting from float32 to uint16\n",
      "  \"%s to %s\" % (dtypeobj_in, dtypeobj))\n"
     ]
    },
    {
     "name": "stdout",
     "output_type": "stream",
     "text": [
      "(34799, 28, 28, 1)\n",
      "Preprocessing X_valid\n",
      "(4410, 28, 28, 1)\n",
      "Preprocessing X_test\n",
      "(12630, 28, 28, 1)\n"
     ]
    }
   ],
   "source": [
    "import numpy as np\n",
    "from skimage import exposure\n",
    "import cv2\n",
    "\n",
    "\n",
    "def preProcess(X):\n",
    "    original = X\n",
    "\n",
    "    X = 0.299 * X[:, :, :, 0] + 0.587 * X[:, :, :, 1] + 0.114 * X[:, :, :, 2] \n",
    "    X = (X / 255.).astype(np.float32)\n",
    "\n",
    "    #Crop image\n",
    "    low_val = 2\n",
    "    high_val = 30\n",
    "    X = np.array([img[low_val:high_val,low_val:high_val] for img in X])\n",
    "    \n",
    "    # Apply localized histogram localization  \n",
    "    for i in range(X.shape[0]):\n",
    "        X[i] = exposure.equalize_adapthist(X[i])\n",
    "\n",
    "    X = np.expand_dims(X, axis=4)\n",
    "    return np.array(X)\n",
    "\n",
    "print('Preprocessing X_train')\n",
    "X_train = preProcess(X_train)\n",
    "print(X_train.shape)\n",
    "\n",
    "print('Preprocessing X_valid')\n",
    "X_valid = preProcess(X_valid)\n",
    "print(X_valid.shape)\n",
    "\n",
    "print('Preprocessing X_test')\n",
    "X_test = preProcess(X_test)\n",
    "print(X_test.shape)"
   ]
  },
  {
   "cell_type": "code",
   "execution_count": 157,
   "metadata": {
    "collapsed": true,
    "deletable": true,
    "editable": true
   },
   "outputs": [],
   "source": [
    "def random_translate(img):\n",
    "    rows,cols,_ = img.shape\n",
    "    px = 2\n",
    "    dx,dy = np.random.randint(-px,px,2)\n",
    "    M = np.float32([[1,0,dx],[0,1,dy]])\n",
    "    dst = cv2.warpAffine(img,M,(cols,rows))\n",
    "    return dst[:,:,np.newaxis]    \n",
    "\n",
    "def random_scaling(img):   \n",
    "    rows,cols,_ = img.shape\n",
    "    px = np.random.randint(-2,2)\n",
    "    pts1 = np.float32([[px,px],[rows-px,px],[px,cols-px],[rows-px,cols-px]])\n",
    "    pts2 = np.float32([[0,0],[rows,0],[0,cols],[rows,cols]])\n",
    "    M = cv2.getPerspectiveTransform(pts1,pts2)\n",
    "    dst = cv2.warpPerspective(img,M,(rows,cols))    \n",
    "    return dst[:,:,np.newaxis]    \n",
    "    \n",
    "    \n",
    "def random_warp(img):\n",
    "    rows,cols,_ = img.shape\n",
    "    rndx = np.random.rand(3) - 0.5\n",
    "    rndx *= cols * 0.06   # this coefficient determines the degree of warping\n",
    "    rndy = np.random.rand(3) - 0.5\n",
    "    rndy *= rows * 0.06\n",
    "    x1 = cols/4\n",
    "    x2 = 3*cols/4\n",
    "    y1 = rows/4\n",
    "    y2 = 3*rows/4\n",
    "    pts1 = np.float32([[y1,x1],\n",
    "                       [y2,x1],\n",
    "                       [y1,x2]])\n",
    "    pts2 = np.float32([[y1+rndy[0],x1+rndx[0]],\n",
    "                       [y2+rndy[1],x1+rndx[1]],\n",
    "                       [y1+rndy[2],x2+rndx[2]]])\n",
    "\n",
    "    M = cv2.getAffineTransform(pts1,pts2)\n",
    "    dst = cv2.warpAffine(img,M,(cols,rows))    \n",
    "    return dst[:,:,np.newaxis]\n",
    "\n",
    "def random_brightness(img):\n",
    "    shifted = img + 1.0\n",
    "    img_max_value = max(shifted.flatten())\n",
    "    max_coef = 2.0/img_max_value\n",
    "    min_coef = max_coef - 0.1\n",
    "    coef = np.random.uniform(min_coef, max_coef)\n",
    "    return shifted * coef - 1.0\n",
    "\n",
    "def random_transforms(X):\n",
    "    new_X = []\n",
    "    for Xi in X:\n",
    "        Xi = random_brightness(Xi)\n",
    "        Xi = random_warp(Xi)\n",
    "        Xi = random_scaling(Xi)\n",
    "        Xi = random_translate(Xi)\n",
    "        new_X.append(Xi)\n",
    "    return np.array(new_X)"
   ]
  },
  {
   "cell_type": "code",
   "execution_count": 158,
   "metadata": {
    "collapsed": false,
    "deletable": true,
    "editable": true
   },
   "outputs": [
    {
     "name": "stdout",
     "output_type": "stream",
     "text": [
      "(556784,)\n",
      "(556784, 28, 28, 1)\n"
     ]
    }
   ],
   "source": [
    "def repeat_random_transforms(iterations = 2):\n",
    "    global X_train\n",
    "    global y_train\n",
    "    temp_X = X_train\n",
    "    temp_y = y_train\n",
    "\n",
    "    for i in range(iterations):\n",
    "        X_train = np.append(X_train, random_transforms(temp_X), axis=0)\n",
    "        y_train = np.append(y_train, temp_y)\n",
    "    \n",
    "\n",
    "repeat_random_transforms(3)\n",
    "repeat_random_transforms(3)\n",
    "print(y_train.shape)\n",
    "print(X_train.shape)"
   ]
  },
  {
   "cell_type": "code",
   "execution_count": 159,
   "metadata": {
    "collapsed": false,
    "deletable": true,
    "editable": true,
    "scrolled": true
   },
   "outputs": [],
   "source": [
    "# print(X_train.shape)\n",
    "# print(X_valid.shape)\n",
    "# print(y_train.shape)\n",
    "\n",
    "# initial_index = 1000\n",
    "# plt.figure()\n",
    "# plt.imshow(X_train[initial_index])\n",
    "\n",
    "# plt.figure()\n",
    "# ind = initial_index + int(X_train.shape[0]/2)\n",
    "# print(ind)\n",
    "# plt.imshow(X_train[ind])\n",
    "\n",
    "# assert y_train[ind] == y_train[initial_index]\n",
    "# # int(X_train.shape[0]/2)"
   ]
  },
  {
   "cell_type": "markdown",
   "metadata": {
    "deletable": true,
    "editable": true
   },
   "source": [
    "### Model Architecture"
   ]
  },
  {
   "cell_type": "code",
   "execution_count": 160,
   "metadata": {
    "collapsed": false,
    "deletable": true,
    "editable": true
   },
   "outputs": [],
   "source": [
    "import tensorflow as tf\n",
    "from tensorflow.contrib.layers import flatten\n",
    "tf.reset_default_graph()\n",
    "\n",
    "def LeNet(x):    \n",
    "    # Hyperparameters\n",
    "    mu = 0\n",
    "    sigma = 0.05\n",
    "    dropout = 0.65\n",
    "\n",
    "    # SOLUTION: Layer 1: Convolutional\n",
    "    conv1_depth = 32\n",
    "    conv1_W = tf.Variable(tf.truncated_normal(shape=(5, 5, 1, conv1_depth), mean = mu, stddev = sigma))\n",
    "    conv1_b = tf.Variable(tf.zeros(conv1_depth))\n",
    "    conv1   = tf.nn.conv2d(x, conv1_W, strides=[1, 1, 1, 1], padding='VALID') + conv1_b\n",
    "\n",
    "    # SOLUTION: Activation.\n",
    "    conv1 = tf.nn.relu(conv1)\n",
    "\n",
    "    # SOLUTION: Pooling.\n",
    "    conv1 = tf.nn.max_pool(conv1, ksize=[1, 2, 2, 1], strides=[1, 2, 2, 1], padding='VALID')\n",
    "\n",
    "    # SOLUTION: Layer 2: Convolutional\n",
    "    conv2_depth = 64\n",
    "    conv2_W = tf.Variable(tf.truncated_normal(shape=(5, 5, conv1_depth, conv2_depth), mean = mu, stddev = sigma))\n",
    "    conv2_b = tf.Variable(tf.zeros(conv2_depth))\n",
    "    conv2   = tf.nn.conv2d(conv1, conv2_W, strides=[1, 1, 1, 1], padding='VALID') + conv2_b\n",
    "\n",
    "    # SOLUTION: Activation.\n",
    "    conv2 = tf.nn.relu(conv2)\n",
    "\n",
    "    # SOLUTION: Pooling.\n",
    "    conv2 = tf.nn.max_pool(conv2, ksize=[1, 2, 2, 1], strides=[1, 2, 2, 1], padding='VALID')\n",
    "    \n",
    "    # SOLUTION: Flatten.\n",
    "    fc0   = flatten(conv2)\n",
    "\n",
    "    # SOLUTION: Layer 3: Fully Connected.\n",
    "    fc1_nodes = 240\n",
    "    fc1_W = tf.Variable(tf.truncated_normal(shape=(1024, fc1_nodes), mean = mu, stddev = sigma))\n",
    "    fc1_b = tf.Variable(tf.zeros(fc1_nodes))\n",
    "    fc1   = tf.matmul(fc0, fc1_W) + fc1_b\n",
    "\n",
    "    # SOLUTION: Activation.\n",
    "    fc1    = tf.nn.relu(fc1)\n",
    "    fc1 = tf.nn.dropout(fc1, dropout)\n",
    "\n",
    "    # SOLUTION: Layer 4: Fully Connected.\n",
    "    fc2_nodes = 100\n",
    "    fc2_W  = tf.Variable(tf.truncated_normal(shape=(fc1_nodes, fc2_nodes), mean = mu, stddev = sigma))\n",
    "    fc2_b  = tf.Variable(tf.zeros(fc2_nodes))\n",
    "    fc2    = tf.matmul(fc1, fc2_W) + fc2_b\n",
    "\n",
    "    # SOLUTION: Activation.\n",
    "    fc2    = tf.nn.relu(fc2)\n",
    "    fc2 = tf.nn.dropout(fc2, dropout)\n",
    "\n",
    "    # SOLUTION: Layer 5: Fully Connected.\n",
    "    fc3_W  = tf.Variable(tf.truncated_normal(shape=(fc2_nodes, n_classes), mean = mu, stddev = sigma))\n",
    "    fc3_b  = tf.Variable(tf.zeros(n_classes))\n",
    "    logits = tf.matmul(fc2, fc3_W) + fc3_b\n",
    "\n",
    "    return logits, conv1, conv2\n"
   ]
  },
  {
   "cell_type": "code",
   "execution_count": 161,
   "metadata": {
    "collapsed": false,
    "deletable": true,
    "editable": true
   },
   "outputs": [],
   "source": [
    "x = tf.placeholder(tf.float32, (None, 28, 28, 1))\n",
    "y = tf.placeholder(tf.int32, (None))\n",
    "one_hot_y = tf.one_hot(y, n_classes)"
   ]
  },
  {
   "cell_type": "code",
   "execution_count": 162,
   "metadata": {
    "collapsed": false,
    "deletable": true,
    "editable": true
   },
   "outputs": [],
   "source": [
    "rate = 0.001\n",
    "\n",
    "logits, conv1, conv2 = LeNet(x)\n",
    "cross_entropy = tf.nn.softmax_cross_entropy_with_logits(logits, one_hot_y)\n",
    "loss_operation = tf.reduce_mean(cross_entropy)\n",
    "optimizer = tf.train.AdamOptimizer(learning_rate = rate)\n",
    "training_operation = optimizer.minimize(loss_operation)"
   ]
  },
  {
   "cell_type": "markdown",
   "metadata": {
    "deletable": true,
    "editable": true
   },
   "source": [
    "### Train, Validate and Test the Model"
   ]
  },
  {
   "cell_type": "markdown",
   "metadata": {
    "deletable": true,
    "editable": true
   },
   "source": [
    "A validation set can be used to assess how well the model is performing. A low accuracy on the training and validation\n",
    "sets imply underfitting. A high accuracy on the training set but low accuracy on the validation set implies overfitting."
   ]
  },
  {
   "cell_type": "code",
   "execution_count": 163,
   "metadata": {
    "collapsed": false,
    "deletable": true,
    "editable": true
   },
   "outputs": [],
   "source": [
    "### Train your model here.\n",
    "### Calculate and report the accuracy on the training and validation set.\n",
    "### Once a final model architecture is selected, \n",
    "### the accuracy on the test set should be calculated and reported as well.\n",
    "### Feel free to use as many code cells as needed.\n",
    "\n",
    "init = tf.global_variables_initializer()\n",
    "\n",
    "\n",
    "correct_prediction = tf.equal(tf.argmax(logits, 1), tf.argmax(one_hot_y, 1))\n",
    "accuracy_operation = tf.reduce_mean(tf.cast(correct_prediction, tf.float32))\n",
    "saver = tf.train.Saver()\n",
    "\n",
    "EPOCHS = 100\n",
    "BATCH_SIZE = 4096\n",
    "\n",
    "def evaluate(X_data, y_data):\n",
    "    num_examples = len(X_data)\n",
    "    total_accuracy = 0\n",
    "    sess = tf.get_default_session()\n",
    "    for offset in range(0, num_examples, BATCH_SIZE):\n",
    "        batch_x, batch_y = X_data[offset:offset+BATCH_SIZE], y_data[offset:offset+BATCH_SIZE]\n",
    "        accuracy = sess.run(accuracy_operation, feed_dict={x: batch_x, y: batch_y})\n",
    "        total_accuracy += (accuracy * len(batch_x))\n",
    "    return total_accuracy / num_examples"
   ]
  },
  {
   "cell_type": "code",
   "execution_count": 164,
   "metadata": {
    "collapsed": false,
    "deletable": true,
    "editable": true
   },
   "outputs": [
    {
     "name": "stdout",
     "output_type": "stream",
     "text": [
      "Training...\n",
      "\n",
      "EPOCH 1 ...Validation Accuracy = 0.545\n",
      "EPOCH 2 ...Validation Accuracy = 0.769\n",
      "EPOCH 3 ...Validation Accuracy = 0.838\n",
      "EPOCH 4 ...Validation Accuracy = 0.883\n",
      "EPOCH 5 ...Validation Accuracy = 0.909\n",
      "EPOCH 6 ...Validation Accuracy = 0.921\n",
      "EPOCH 7 ...Validation Accuracy = 0.939\n",
      "EPOCH 8 ...Validation Accuracy = 0.944\n",
      "EPOCH 9 ...Validation Accuracy = 0.954\n",
      "EPOCH 10 ...Validation Accuracy = 0.955\n",
      "EPOCH 11 ...Validation Accuracy = 0.959\n",
      "EPOCH 12 ...Validation Accuracy = 0.962\n",
      "EPOCH 13 ...Validation Accuracy = 0.969\n",
      "EPOCH 14 ...Validation Accuracy = 0.966\n",
      "EPOCH 15 ...Validation Accuracy = 0.967\n",
      "EPOCH 16 ...Validation Accuracy = 0.969\n",
      "EPOCH 17 ...Validation Accuracy = 0.971\n",
      "EPOCH 18 ...Validation Accuracy = 0.974\n",
      "EPOCH 19 ...Validation Accuracy = 0.975\n",
      "EPOCH 20 ...Validation Accuracy = 0.976\n",
      "EPOCH 21 ...Validation Accuracy = 0.980\n",
      "EPOCH 22 ...Validation Accuracy = 0.977\n",
      "EPOCH 23 ...Validation Accuracy = 0.980\n",
      "EPOCH 24 ...Validation Accuracy = 0.979\n",
      "EPOCH 25 ...Validation Accuracy = 0.979\n",
      "EPOCH 26 ...Validation Accuracy = 0.980\n",
      "EPOCH 27 ...Validation Accuracy = 0.982\n",
      "EPOCH 28 ...Validation Accuracy = 0.978\n",
      "EPOCH 29 ...Validation Accuracy = 0.983\n",
      "EPOCH 30 ...Validation Accuracy = 0.980\n",
      "EPOCH 31 ...Validation Accuracy = 0.982\n",
      "EPOCH 32 ...Validation Accuracy = 0.980\n",
      "EPOCH 33 ...Validation Accuracy = 0.985\n",
      "EPOCH 34 ...Validation Accuracy = 0.984\n",
      "EPOCH 35 ...Validation Accuracy = 0.981\n",
      "EPOCH 36 ...Validation Accuracy = 0.985\n",
      "EPOCH 37 ...Validation Accuracy = 0.982\n",
      "EPOCH 38 ...Validation Accuracy = 0.980\n",
      "EPOCH 39 ...Validation Accuracy = 0.987\n",
      "EPOCH 40 ...Validation Accuracy = 0.982\n",
      "EPOCH 41 ...Validation Accuracy = 0.985\n",
      "EPOCH 42 ...Validation Accuracy = 0.987\n",
      "EPOCH 43 ...Validation Accuracy = 0.984\n",
      "EPOCH 44 ...Validation Accuracy = 0.983\n",
      "EPOCH 45 ...Validation Accuracy = 0.985\n",
      "EPOCH 46 ...Validation Accuracy = 0.987\n",
      "EPOCH 47 ...Validation Accuracy = 0.986\n",
      "EPOCH 48 ...Validation Accuracy = 0.987\n",
      "EPOCH 49 ...Validation Accuracy = 0.987\n",
      "EPOCH 50 ...Validation Accuracy = 0.985\n",
      "EPOCH 51 ...Validation Accuracy = 0.986\n",
      "EPOCH 52 ...Validation Accuracy = 0.987\n",
      "EPOCH 53 ...Validation Accuracy = 0.985\n",
      "EPOCH 54 ...Validation Accuracy = 0.985\n",
      "EPOCH 55 ...Validation Accuracy = 0.988\n",
      "EPOCH 56 ...Validation Accuracy = 0.986\n",
      "EPOCH 57 ...Validation Accuracy = 0.986\n",
      "EPOCH 58 ...Validation Accuracy = 0.985\n",
      "EPOCH 59 ...Validation Accuracy = 0.988\n",
      "EPOCH 60 ...Validation Accuracy = 0.986\n",
      "EPOCH 61 ...Validation Accuracy = 0.987\n",
      "EPOCH 62 ...Validation Accuracy = 0.985\n",
      "EPOCH 63 ...Validation Accuracy = 0.990\n",
      "EPOCH 64 ...Validation Accuracy = 0.985\n",
      "EPOCH 65 ...Validation Accuracy = 0.986\n",
      "EPOCH 66 ...Validation Accuracy = 0.987\n",
      "EPOCH 67 ...Validation Accuracy = 0.988\n",
      "EPOCH 68 ...Validation Accuracy = 0.989\n",
      "EPOCH 69 ...Validation Accuracy = 0.988\n",
      "EPOCH 70 ...Validation Accuracy = 0.987\n",
      "EPOCH 71 ...Validation Accuracy = 0.990\n",
      "EPOCH 72 ...Validation Accuracy = 0.988\n",
      "EPOCH 73 ...Validation Accuracy = 0.988\n",
      "EPOCH 74 ...Validation Accuracy = 0.985\n",
      "EPOCH 75 ...Validation Accuracy = 0.989\n",
      "EPOCH 76 ...Validation Accuracy = 0.987\n",
      "EPOCH 77 ...Validation Accuracy = 0.991\n",
      "EPOCH 78 ...Validation Accuracy = 0.984\n",
      "EPOCH 79 ...Validation Accuracy = 0.991\n",
      "EPOCH 80 ...Validation Accuracy = 0.987\n",
      "EPOCH 81 ...Validation Accuracy = 0.988\n",
      "EPOCH 82 ...Validation Accuracy = 0.986\n",
      "EPOCH 83 ...Validation Accuracy = 0.990\n",
      "EPOCH 84 ...Validation Accuracy = 0.988\n",
      "EPOCH 85 ...Validation Accuracy = 0.988\n",
      "EPOCH 86 ...Validation Accuracy = 0.988\n",
      "EPOCH 87 ...Validation Accuracy = 0.988\n",
      "EPOCH 88 ...Validation Accuracy = 0.988\n",
      "EPOCH 89 ...Validation Accuracy = 0.988\n",
      "EPOCH 90 ...Validation Accuracy = 0.989\n",
      "EPOCH 91 ...Validation Accuracy = 0.988\n",
      "EPOCH 92 ...Validation Accuracy = 0.991\n",
      "EPOCH 93 ...Validation Accuracy = 0.991\n",
      "EPOCH 94 ...Validation Accuracy = 0.989\n",
      "EPOCH 95 ...Validation Accuracy = 0.987\n",
      "EPOCH 96 ...Validation Accuracy = 0.989\n",
      "EPOCH 97 ...Validation Accuracy = 0.989\n",
      "EPOCH 98 ...Validation Accuracy = 0.989\n",
      "EPOCH 99 ...Validation Accuracy = 0.989\n",
      "EPOCH 100 ...Validation Accuracy = 0.991\n",
      "Model saved\n"
     ]
    }
   ],
   "source": [
    "from sklearn.utils import shuffle\n",
    "\n",
    "with tf.Session() as sess:\n",
    "    sess.run(tf.global_variables_initializer())\n",
    "    num_examples = len(X_train)\n",
    "    \n",
    "    print(\"Training...\")\n",
    "    print()\n",
    "    for i in range(EPOCHS):\n",
    "        X_train, y_train = shuffle(X_train, y_train)\n",
    "        for offset in range(0, num_examples, BATCH_SIZE):\n",
    "            end = offset + BATCH_SIZE\n",
    "            batch_x, batch_y = X_train[offset:end], y_train[offset:end]\n",
    "            sess.run(training_operation, feed_dict={x: batch_x, y: batch_y})\n",
    "            \n",
    "        validation_accuracy = evaluate(X_valid, y_valid)\n",
    "        print(\"EPOCH {} ...\".format(i+1) + \"Validation Accuracy = {:.3f}\".format(validation_accuracy))        \n",
    "        \n",
    "    saver.save(sess, './lenet')\n",
    "    print(\"Model saved\")"
   ]
  },
  {
   "cell_type": "code",
   "execution_count": 172,
   "metadata": {
    "collapsed": false,
    "deletable": true,
    "editable": true
   },
   "outputs": [
    {
     "name": "stdout",
     "output_type": "stream",
     "text": [
      "TEST SET ACCURACY = 0.970\n"
     ]
    }
   ],
   "source": [
    "#Restore session\n",
    "\n",
    "with tf.Session() as sess:        \n",
    "    saver.restore(sess, './lenet')\n",
    "    test_accuracy = evaluate(X_test, y_test)    \n",
    "    print(\"TEST SET ACCURACY = {:.3f}\".format(test_accuracy))\n"
   ]
  },
  {
   "cell_type": "markdown",
   "metadata": {
    "deletable": true,
    "editable": true
   },
   "source": [
    "---\n",
    "\n",
    "## Step 3: Test a Model on New Images\n",
    "\n",
    "To give yourself more insight into how your model is working, download at least five pictures of German traffic signs from the web and use your model to predict the traffic sign type.\n",
    "\n",
    "You may find `signnames.csv` useful as it contains mappings from the class id (integer) to the actual sign name."
   ]
  },
  {
   "cell_type": "markdown",
   "metadata": {
    "deletable": true,
    "editable": true
   },
   "source": [
    "### Load and Output the Images"
   ]
  },
  {
   "cell_type": "code",
   "execution_count": 173,
   "metadata": {
    "collapsed": false,
    "deletable": true,
    "editable": true
   },
   "outputs": [
    {
     "name": "stderr",
     "output_type": "stream",
     "text": [
      "/home/ravelantunes/anaconda3/envs/carnd-term1/lib/python3.5/site-packages/skimage/util/dtype.py:110: UserWarning: Possible precision loss when converting from float32 to uint16\n",
      "  \"%s to %s\" % (dtypeobj_in, dtypeobj))\n"
     ]
    },
    {
     "data": {
      "text/plain": [
       "(5, 28, 28, 1)"
      ]
     },
     "execution_count": 173,
     "metadata": {},
     "output_type": "execute_result"
    }
   ],
   "source": [
    "### Load the images and plot them here.\n",
    "### Feel free to use as many code cells as needed.\n",
    "from scipy import misc\n",
    "\n",
    "files = np.array([misc.imread('./random-images/no.jpg'),\n",
    "                 misc.imread('./random-images/no-passing.jpg'),\n",
    "                 misc.imread('./random-images/stop.jpg'),\n",
    "                 misc.imread('./random-images/straight-or-right.jpg'),\n",
    "                 misc.imread('./random-images/yield.jpg')])\n",
    "y_files = np.array([17, 9, 14, 36, 13])\n",
    "files = preProcess(files)\n",
    "files.shape\n",
    "\n",
    "\n",
    "\n"
   ]
  },
  {
   "cell_type": "markdown",
   "metadata": {
    "deletable": true,
    "editable": true
   },
   "source": [
    "### Predict the Sign Type for Each Image"
   ]
  },
  {
   "cell_type": "code",
   "execution_count": 180,
   "metadata": {
    "collapsed": false,
    "deletable": true,
    "editable": true
   },
   "outputs": [
    {
     "name": "stdout",
     "output_type": "stream",
     "text": [
      "[14  9 14 36 13]\n"
     ]
    }
   ],
   "source": [
    "result = None\n",
    "with tf.Session() as sess:        \n",
    "    saver.restore(sess, tf.train.latest_checkpoint('./'))\n",
    "    sess = tf.get_default_session()    \n",
    "    result = sess.run(logits, feed_dict={x:files})    \n",
    "    print(np.argmax(result, axis=1))\n"
   ]
  },
  {
   "cell_type": "markdown",
   "metadata": {
    "deletable": true,
    "editable": true
   },
   "source": [
    "### Analyze Performance"
   ]
  },
  {
   "cell_type": "code",
   "execution_count": 182,
   "metadata": {
    "collapsed": false,
    "deletable": true,
    "editable": true
   },
   "outputs": [
    {
     "name": "stdout",
     "output_type": "stream",
     "text": [
      "[17  9 14 36 13]\n",
      "NEW IMAGES ACCURACY = 1.000\n"
     ]
    }
   ],
   "source": [
    "with tf.Session() as sess:        \n",
    "    saver.restore(sess, tf.train.latest_checkpoint('./'))\n",
    "    sess = tf.get_default_session()\n",
    "    new_images_accuracy = evaluate(files, y_files)\n",
    "    print(\"NEW IMAGES ACCURACY = {:.3f}\".format(new_images_accuracy))"
   ]
  },
  {
   "cell_type": "markdown",
   "metadata": {
    "deletable": true,
    "editable": true
   },
   "source": [
    "### Output Top 5 Softmax Probabilities For Each Image Found on the Web"
   ]
  },
  {
   "cell_type": "markdown",
   "metadata": {
    "deletable": true,
    "editable": true
   },
   "source": [
    "For each of the new images, print out the model's softmax probabilities to show the **certainty** of the model's predictions (limit the output to the top 5 probabilities for each image). [`tf.nn.top_k`](https://www.tensorflow.org/versions/r0.12/api_docs/python/nn.html#top_k) could prove helpful here. \n",
    "\n",
    "The example below demonstrates how tf.nn.top_k can be used to find the top k predictions for each image.\n",
    "\n",
    "`tf.nn.top_k` will return the values and indices (class ids) of the top k predictions. So if k=3, for each sign, it'll return the 3 largest probabilities (out of a possible 43) and the correspoding class ids.\n",
    "\n",
    "Take this numpy array as an example. The values in the array represent predictions. The array contains softmax probabilities for five candidate images with six possible classes. `tk.nn.top_k` is used to choose the three classes with the highest probability:\n",
    "\n",
    "```\n",
    "# (5, 6) array\n",
    "a = np.array([[ 0.24879643,  0.07032244,  0.12641572,  0.34763842,  0.07893497,\n",
    "         0.12789202],\n",
    "       [ 0.28086119,  0.27569815,  0.08594638,  0.0178669 ,  0.18063401,\n",
    "         0.15899337],\n",
    "       [ 0.26076848,  0.23664738,  0.08020603,  0.07001922,  0.1134371 ,\n",
    "         0.23892179],\n",
    "       [ 0.11943333,  0.29198961,  0.02605103,  0.26234032,  0.1351348 ,\n",
    "         0.16505091],\n",
    "       [ 0.09561176,  0.34396535,  0.0643941 ,  0.16240774,  0.24206137,\n",
    "         0.09155967]])\n",
    "```\n",
    "\n",
    "Running it through `sess.run(tf.nn.top_k(tf.constant(a), k=3))` produces:\n",
    "\n",
    "```\n",
    "TopKV2(values=array([[ 0.34763842,  0.24879643,  0.12789202],\n",
    "       [ 0.28086119,  0.27569815,  0.18063401],\n",
    "       [ 0.26076848,  0.23892179,  0.23664738],\n",
    "       [ 0.29198961,  0.26234032,  0.16505091],\n",
    "       [ 0.34396535,  0.24206137,  0.16240774]]), indices=array([[3, 0, 5],\n",
    "       [0, 1, 4],\n",
    "       [0, 5, 1],\n",
    "       [1, 3, 5],\n",
    "       [1, 4, 3]], dtype=int32))\n",
    "```\n",
    "\n",
    "Looking just at the first row we get `[ 0.34763842,  0.24879643,  0.12789202]`, you can confirm these are the 3 largest probabilities in `a`. You'll also notice `[3, 0, 5]` are the corresponding indices."
   ]
  },
  {
   "cell_type": "code",
   "execution_count": 178,
   "metadata": {
    "collapsed": false,
    "deletable": true,
    "editable": true
   },
   "outputs": [
    {
     "name": "stdout",
     "output_type": "stream",
     "text": [
      "TopKV2(values=array([[  9.95262504e-01,   4.26165853e-03,   4.75821260e-04],\n",
      "       [  1.00000000e+00,   6.62426140e-16,   2.82558978e-19],\n",
      "       [  1.00000000e+00,   5.91648785e-25,   6.48547818e-27],\n",
      "       [  9.34452474e-01,   6.55194521e-02,   1.35256341e-05],\n",
      "       [  1.00000000e+00,   0.00000000e+00,   0.00000000e+00]], dtype=float32), indices=array([[13, 17, 14],\n",
      "       [ 9, 10,  3],\n",
      "       [14, 15, 13],\n",
      "       [36, 35, 28],\n",
      "       [13,  0,  1]], dtype=int32))\n"
     ]
    }
   ],
   "source": [
    "with tf.Session() as sess:        \n",
    "    saver.restore(sess, tf.train.latest_checkpoint('./'))\n",
    "    sess = tf.get_default_session()\n",
    "    files_softmax = sess.run(tf.nn.top_k(tf.nn.softmax(tf.constant(result)), k=3))\n",
    "    print(files_softmax)"
   ]
  },
  {
   "cell_type": "markdown",
   "metadata": {
    "deletable": true,
    "editable": true
   },
   "source": [
    "---\n",
    "\n",
    "## Step 4: Visualize the Neural Network's State with Test Images\n",
    "\n",
    " This Section is not required to complete but acts as an additional excersise for understaning the output of a neural network's weights. While neural networks can be a great learning device they are often referred to as a black box. We can understand what the weights of a neural network look like better by plotting their feature maps. After successfully training your neural network you can see what it's feature maps look like by plotting the output of the network's weight layers in response to a test stimuli image. From these plotted feature maps, it's possible to see what characteristics of an image the network finds interesting. For a sign, maybe the inner network feature maps react with high activation to the sign's boundary outline or to the contrast in the sign's painted symbol.\n",
    "\n",
    " Provided for you below is the function code that allows you to get the visualization output of any tensorflow weight layer you want. The inputs to the function should be a stimuli image, one used during training or a new one you provided, and then the tensorflow variable name that represents the layer's state during the training process, for instance if you wanted to see what the [LeNet lab's](https://classroom.udacity.com/nanodegrees/nd013/parts/fbf77062-5703-404e-b60c-95b78b2f3f9e/modules/6df7ae49-c61c-4bb2-a23e-6527e69209ec/lessons/601ae704-1035-4287-8b11-e2c2716217ad/concepts/d4aca031-508f-4e0b-b493-e7b706120f81) feature maps looked like for it's second convolutional layer you could enter conv2 as the tf_activation variable.\n",
    "\n",
    "For an example of what feature map outputs look like, check out NVIDIA's results in their paper [End-to-End Deep Learning for Self-Driving Cars](https://devblogs.nvidia.com/parallelforall/deep-learning-self-driving-cars/) in the section Visualization of internal CNN State. NVIDIA was able to show that their network's inner weights had high activations to road boundary lines by comparing feature maps from an image with a clear path to one without. Try experimenting with a similar test to show that your trained network's weights are looking for interesting features, whether it's looking at differences in feature maps from images with or without a sign, or even what feature maps look like in a trained network vs a completely untrained one on the same sign image.\n",
    "\n",
    "<figure>\n",
    " <img src=\"visualize_cnn.png\" width=\"380\" alt=\"Combined Image\" />\n",
    " <figcaption>\n",
    " <p></p> \n",
    " <p style=\"text-align: center;\"> Your output should look something like this (above)</p> \n",
    " </figcaption>\n",
    "</figure>\n",
    " <p></p> \n"
   ]
  },
  {
   "cell_type": "code",
   "execution_count": 170,
   "metadata": {
    "collapsed": true,
    "deletable": true,
    "editable": true
   },
   "outputs": [],
   "source": [
    "### Visualize your network's feature maps here.\n",
    "### Feel free to use as many code cells as needed.\n",
    "\n",
    "# image_input: the test image being fed into the network to produce the feature maps\n",
    "# tf_activation: should be a tf variable name used during your training procedure that represents the calculated state of a specific weight layer\n",
    "# activation_min/max: can be used to view the activation contrast in more detail, by default matplot sets min and max to the actual min and max values of the output\n",
    "# plt_num: used to plot out multiple different weight feature map sets on the same block, just extend the plt number for each new feature map entry\n",
    "\n",
    "def outputFeatureMap(image_input, tf_activation, activation_min=-1, activation_max=-1 ,plt_num=1):\n",
    "    # Here make sure to preprocess your image_input in a way your network expects\n",
    "    # with size, normalization, ect if needed\n",
    "    # image_input =\n",
    "    # Note: x should be the same name as your network's tensorflow data placeholder variable\n",
    "    # If you get an error tf_activation is not defined it maybe having trouble accessing the variable from inside a function\n",
    "    activation = tf_activation.eval(session=sess,feed_dict={x : image_input})\n",
    "    featuremaps = activation.shape[3]\n",
    "    plt.figure(plt_num, figsize=(15,15))\n",
    "    for featuremap in range(featuremaps):\n",
    "        plt.subplot(6,8, featuremap+1) # sets the number of feature maps to show on each row and column\n",
    "        plt.title('FeatureMap ' + str(featuremap)) # displays the feature map number\n",
    "        if activation_min != -1 & activation_max != -1:\n",
    "            plt.imshow(activation[0,:,:, featuremap], interpolation=\"nearest\", vmin =activation_min, vmax=activation_max, cmap=\"gray\")\n",
    "        elif activation_max != -1:\n",
    "            plt.imshow(activation[0,:,:, featuremap], interpolation=\"nearest\", vmax=activation_max, cmap=\"gray\")\n",
    "        elif activation_min !=-1:\n",
    "            plt.imshow(activation[0,:,:, featuremap], interpolation=\"nearest\", vmin=activation_min, cmap=\"gray\")\n",
    "        else:\n",
    "            plt.imshow(activation[0,:,:, featuremap], interpolation=\"nearest\", cmap=\"gray\")"
   ]
  },
  {
   "cell_type": "code",
   "execution_count": 171,
   "metadata": {
    "collapsed": false,
    "deletable": true,
    "editable": true
   },
   "outputs": [
    {
     "data": {
      "image/png": "[encoded data removed]",
      "text/plain": [
       "<matplotlib.figure.Figure at 0x7f55989a9d68>"
      ]
     },
     "metadata": {},
     "output_type": "display_data"
    }
   ],
   "source": [
    "\n",
    "with tf.Session() as sess:        \n",
    "    saver.restore(sess, tf.train.latest_checkpoint('./'))\n",
    "    sess = tf.get_default_session()\n",
    "    \n",
    "    outputFeatureMap(X_valid, conv1)\n",
    "    "
   ]
  },
  {
   "cell_type": "markdown",
   "metadata": {
    "deletable": true,
    "editable": true
   },
   "source": [
    "### Question 9\n",
    "\n",
    "Discuss how you used the visual output of your trained network's feature maps to show that it had learned to look for interesting characteristics in traffic sign images\n"
   ]
  },
  {
   "cell_type": "markdown",
   "metadata": {
    "deletable": true,
    "editable": true
   },
   "source": [
    "**Answer:**"
   ]
  },
  {
   "cell_type": "markdown",
   "metadata": {
    "deletable": true,
    "editable": true
   },
   "source": [
    "> **Note**: Once you have completed all of the code implementations and successfully answered each question above, you may finalize your work by exporting the iPython Notebook as an HTML document. You can do this by using the menu above and navigating to  \\n\",\n",
    "    \"**File -> Download as -> HTML (.html)**. Include the finished document along with this notebook as your submission."
   ]
  },
  {
   "cell_type": "markdown",
   "metadata": {
    "deletable": true,
    "editable": true
   },
   "source": [
    "### Project Writeup\n",
    "\n",
    "Once you have completed the code implementation, document your results in a project writeup using this [template](https://github.com/udacity/CarND-Traffic-Sign-Classifier-Project/blob/master/writeup_template.md) as a guide. The writeup can be in a markdown or pdf file. "
   ]
  }
 ],
 "metadata": {
  "anaconda-cloud": {},
  "kernelspec": {
   "display_name": "Python 3",
   "language": "python",
   "name": "python3"
  },
  "language_info": {
   "codemirror_mode": {
    "name": "ipython",
    "version": 3
   },
   "file_extension": ".py",
   "mimetype": "text/x-python",
   "name": "python",
   "nbconvert_exporter": "python",
   "pygments_lexer": "ipython3",
   "version": "3.5.2"
  },
  "widgets": {
   "state": {},
   "version": "1.1.2"
  }
 },
 "nbformat": 4,
 "nbformat_minor": 1
}
